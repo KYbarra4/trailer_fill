{
 "cells": [
  {
   "cell_type": "code",
   "execution_count": null,
   "metadata": {},
   "outputs": [],
   "source": [
    "# pip install --trusted-host pypi.org --trusted-host files.pythonhosted.org seaborn"
   ]
  },
  {
   "cell_type": "code",
   "execution_count": null,
   "metadata": {},
   "outputs": [],
   "source": [
    "import requests\n",
    "import json\n",
    "import pandas as pd\n",
    "import numpy as np\n",
    "from datetime import datetime\n",
    "from bs4 import BeautifulSoup as soup\n",
    "import os\n"
   ]
  },
  {
   "cell_type": "code",
   "execution_count": null,
   "metadata": {},
   "outputs": [],
   "source": [
    "csv='../OB/Trailer_Fill.csv'\n",
    "trailer_fill_df= pd.read_csv(csv)\n",
    "trailer_fill_df.head()"
   ]
  },
  {
   "cell_type": "code",
   "execution_count": null,
   "metadata": {},
   "outputs": [],
   "source": [
    "trailer_fill_df.dropna(subset=['STORE'], inplace=True)\n",
    "trailer_fill_df.tail()"
   ]
  },
  {
   "cell_type": "code",
   "execution_count": null,
   "metadata": {},
   "outputs": [],
   "source": [
    "trailer_fill_df['STORE'] = trailer_fill_df['STORE'].astype('int')\n",
    "trailer_fill_df['DC'] = trailer_fill_df['DC'].astype('int')\n",
    "# trailer_fill_df['LOAD ID'] = trailer_fill_df['LOAD ID'].astype('int')\n",
    "# trailer_fill_df['TRAILER ID'] = trailer_fill_df['TRAILER ID'].astype('int')"
   ]
  },
  {
   "cell_type": "code",
   "execution_count": null,
   "metadata": {},
   "outputs": [],
   "source": [
    "trailer_fill_df = trailer_fill_df.drop(trailer_fill_df[trailer_fill_df['STORE'] == 942].index)"
   ]
  },
  {
   "cell_type": "code",
   "execution_count": null,
   "metadata": {},
   "outputs": [],
   "source": [
    "trailer_fill_df.head()"
   ]
  },
  {
   "cell_type": "code",
   "execution_count": null,
   "metadata": {},
   "outputs": [],
   "source": [
    "store_count = len(trailer_fill_df['STORE'].unique())\n",
    "store_count"
   ]
  },
  {
   "cell_type": "code",
   "execution_count": null,
   "metadata": {},
   "outputs": [],
   "source": [
    "per_store_close = trailer_fill_df.groupby('STORE')['LOAD ID'].count()\n",
    "per_store_close"
   ]
  },
  {
   "cell_type": "code",
   "execution_count": null,
   "metadata": {},
   "outputs": [],
   "source": [
    "per_store_close = per_store_close.reset_index(name='Close_Count')\n",
    "per_store_close"
   ]
  },
  {
   "cell_type": "code",
   "execution_count": null,
   "metadata": {},
   "outputs": [],
   "source": [
    "top_25_stores = per_store_close.sort_values(\"Close_Count\", ascending = False)\n",
    "top_25_stores"
   ]
  },
  {
   "cell_type": "code",
   "execution_count": null,
   "metadata": {},
   "outputs": [],
   "source": [
    "trailer_fill_df.info()"
   ]
  },
  {
   "cell_type": "code",
   "execution_count": null,
   "metadata": {},
   "outputs": [],
   "source": [
    "trailer_fill_df['TRAILER FILL %'] = trailer_fill_df['TRAILER FILL %'].str.rstrip('%').astype(float)/100\n",
    "trailer_fill_df.head()"
   ]
  },
  {
   "cell_type": "code",
   "execution_count": null,
   "metadata": {},
   "outputs": [],
   "source": [
    "trailer_store_fail = trailer_fill_df[(trailer_fill_df[\"TRAILER FILL %\"] <.65)]\n",
    "trailer_store_fail.head()"
   ]
  },
  {
   "cell_type": "code",
   "execution_count": null,
   "metadata": {},
   "outputs": [],
   "source": [
    "fail_close = trailer_store_fail.groupby('STORE')['LOAD ID'].count()\n",
    "fail_close = fail_close.reset_index(name='Failed_Threshold')\n",
    "fail_close"
   ]
  },
  {
   "cell_type": "code",
   "execution_count": null,
   "metadata": {},
   "outputs": [],
   "source": [
    "complete_trailer_analysis = pd.merge(fail_close,per_store_close, on = 'STORE', how = 'outer')\n",
    "complete_trailer_analysis"
   ]
  },
  {
   "cell_type": "code",
   "execution_count": null,
   "metadata": {},
   "outputs": [],
   "source": [
    "complete_trailer_analysis['Percent_Fail'] = complete_trailer_analysis['Failed_Threshold'] / complete_trailer_analysis['Close_Count']\n",
    "complete_trailer_analysis"
   ]
  },
  {
   "cell_type": "code",
   "execution_count": null,
   "metadata": {},
   "outputs": [],
   "source": [
    "complete_trailer_analysis = complete_trailer_analysis.sort_values(\"Failed_Threshold\", ascending = False)\n",
    "complete_trailer_analysis"
   ]
  },
  {
   "cell_type": "code",
   "execution_count": null,
   "metadata": {},
   "outputs": [],
   "source": [
    "complete_trailer_analysis['Failed_Threshold'] = complete_trailer_analysis['Failed_Threshold'].fillna(0)\n",
    "complete_trailer_analysis['Percent_Fail'] = complete_trailer_analysis['Percent_Fail'].fillna(0)"
   ]
  },
  {
   "cell_type": "code",
   "execution_count": null,
   "metadata": {},
   "outputs": [],
   "source": [
    "complete_trailer_analysis.head()"
   ]
  },
  {
   "cell_type": "code",
   "execution_count": null,
   "metadata": {},
   "outputs": [],
   "source": [
    "complete_trailer_analysis.to_csv('../OB/trailer_fill_analysis/trailer_fill_analysis.csv', index=True)"
   ]
  },
  {
   "cell_type": "code",
   "execution_count": null,
   "metadata": {},
   "outputs": [],
   "source": [
    "trailer_fill_df.head()"
   ]
  },
  {
   "cell_type": "code",
   "execution_count": null,
   "metadata": {},
   "outputs": [],
   "source": [
    "trailer_fill_df[[\"Date_Close\",\"Time_Close\"]] = trailer_fill_df[\"TRAILER CLOSE TS (LOCAL)\"].str.split(expand=True)\n",
    "trailer_fill_df.head()"
   ]
  },
  {
   "cell_type": "code",
   "execution_count": null,
   "metadata": {},
   "outputs": [],
   "source": [
    "trailer_fill_df['TRAILER CLOSE TS (LOCAL)'] = pd.to_datetime(trailer_fill_df['TRAILER CLOSE TS (LOCAL)'])\n",
    "trailer_fill_df.head()"
   ]
  },
  {
   "cell_type": "code",
   "execution_count": null,
   "metadata": {},
   "outputs": [],
   "source": [
    "trailer_fill_df['Weekday']= trailer_fill_df['TRAILER CLOSE TS (LOCAL)'].dt.weekday\n",
    "trailer_fill_df.head()"
   ]
  },
  {
   "cell_type": "code",
   "execution_count": null,
   "metadata": {},
   "outputs": [],
   "source": [
    "shift_a1_start = '06:00:00'\n",
    "shift_a1_end = '18:00:00'\n",
    "shift_a2_start = '18:00:00'\n",
    "shift_a2_end = '06:00:00'\n",
    "shift_b1_start = '06:00:00'\n",
    "shift_b1_end = '16:00:00'\n",
    "shift_b2_start = '16:00:00'\n",
    "shift_b2_end = '02:00:00'\n",
    "\n",
    "\n",
    "trailer_fill_df['A1'] = ((trailer_fill_df['TRAILER CLOSE TS (LOCAL)'].dt.dayofweek >= 5) | (trailer_fill_df['TRAILER CLOSE TS (LOCAL)'].dt.dayofweek == 0)) & \\\n",
    "                 ((trailer_fill_df['TRAILER CLOSE TS (LOCAL)'].dt.time >= pd.to_datetime(shift_a1_start).time()) & \\\n",
    "                  (trailer_fill_df['TRAILER CLOSE TS (LOCAL)'].dt.time <= pd.to_datetime(shift_a1_end).time()))\n",
    "\n",
    "trailer_fill_df['A2'] = ((trailer_fill_df['TRAILER CLOSE TS (LOCAL)'].dt.dayofweek >= 5) | (trailer_fill_df['TRAILER CLOSE TS (LOCAL)'].dt.dayofweek <= 1)) & \\\n",
    "                 ((trailer_fill_df['TRAILER CLOSE TS (LOCAL)'].dt.time >= pd.to_datetime(shift_a2_start).time()) | \\\n",
    "                  (trailer_fill_df['TRAILER CLOSE TS (LOCAL)'].dt.time <= pd.to_datetime(shift_a2_end).time()))\n",
    "\n",
    "trailer_fill_df['B1'] = (trailer_fill_df['TRAILER CLOSE TS (LOCAL)'].dt.dayofweek >= 1) & (trailer_fill_df['TRAILER CLOSE TS (LOCAL)'].dt.dayofweek <= 4) & \\\n",
    "                 ((trailer_fill_df['TRAILER CLOSE TS (LOCAL)'].dt.time >= pd.to_datetime(shift_b1_start).time()) & \\\n",
    "                  (trailer_fill_df['TRAILER CLOSE TS (LOCAL)'].dt.time <= pd.to_datetime(shift_b1_end).time()))\n",
    "\n",
    "trailer_fill_df['B2'] = (trailer_fill_df['TRAILER CLOSE TS (LOCAL)'].dt.dayofweek >= 1) & (trailer_fill_df['TRAILER CLOSE TS (LOCAL)'].dt.dayofweek <= 5) & \\\n",
    "                 ((trailer_fill_df['TRAILER CLOSE TS (LOCAL)'].dt.time >= pd.to_datetime(shift_b2_start).time()) | \\\n",
    "                  (trailer_fill_df['TRAILER CLOSE TS (LOCAL)'].dt.time <= pd.to_datetime(shift_b2_end).time()))\n",
    "\n",
    "trailer_fill_df.head()"
   ]
  },
  {
   "cell_type": "code",
   "execution_count": null,
   "metadata": {},
   "outputs": [],
   "source": [
    "trailer_fill_df['Shift']= np.where(trailer_fill_df['A1'], 'A1',\n",
    "                                np.where(trailer_fill_df['A2'], 'A2',\n",
    "                                np.where(trailer_fill_df['B1'], 'B1',\n",
    "                                np.where(trailer_fill_df['B2'], 'B2',\n",
    "                                'B3'))))\n",
    "\n",
    "trailer_fill_df.head()"
   ]
  },
  {
   "cell_type": "code",
   "execution_count": null,
   "metadata": {},
   "outputs": [],
   "source": [
    "trailer_fail_shift = trailer_fill_df[(trailer_fill_df[\"TRAILER FILL %\"] <.65)]\n",
    "trailer_fail_shift.head()"
   ]
  },
  {
   "cell_type": "code",
   "execution_count": null,
   "metadata": {},
   "outputs": [],
   "source": [
    "total_trailer_key = trailer_fill_df.groupby('Shift')['LOAD ID'].count()\n",
    "total_trailer_key = total_trailer_key.reset_index(name='Total_Trailer')\n",
    "total_trailer_key"
   ]
  },
  {
   "cell_type": "code",
   "execution_count": null,
   "metadata": {},
   "outputs": [],
   "source": [
    "trailer_fail_shift = trailer_fail_shift.groupby('Shift')['LOAD ID'].count()\n",
    "trailer_fail_shift = trailer_fail_shift.reset_index(name='Failed_Threshold')\n",
    "trailer_fail_shift.head()"
   ]
  },
  {
   "cell_type": "code",
   "execution_count": null,
   "metadata": {},
   "outputs": [],
   "source": [
    "total_trailer = pd.merge(trailer_fail_shift, total_trailer_key, how='left', on=['Shift', 'Shift'])\n",
    "total_trailer"
   ]
  },
  {
   "cell_type": "code",
   "execution_count": null,
   "metadata": {},
   "outputs": [],
   "source": [
    "total_trailer.to_csv('../OB/trailer_fill_analysis/trailer_fill_shift.csv', index=True)"
   ]
  },
  {
   "cell_type": "code",
   "execution_count": null,
   "metadata": {},
   "outputs": [],
   "source": [
    "import matplotlib.pyplot as plt\n",
    "import numpy as np\n",
    "\n",
    "import matplotlib\n",
    "import matplotlib as mpl"
   ]
  },
  {
   "cell_type": "code",
   "execution_count": null,
   "metadata": {},
   "outputs": [],
   "source": [
    "trailer_fail_plot = trailer_fill_df[(trailer_fill_df[\"TRAILER FILL %\"] <.65)]\n",
    "trailer_fail_plot.head()"
   ]
  },
  {
   "cell_type": "code",
   "execution_count": null,
   "metadata": {},
   "outputs": [],
   "source": [
    "trailer_fail_plot['TRAILER CLOSE TS (LOCAL)'] = trailer_fail_plot['TRAILER CLOSE TS (LOCAL)'].dt.hour\n",
    "trailer_fail_plot.head()"
   ]
  },
  {
   "cell_type": "code",
   "execution_count": null,
   "metadata": {},
   "outputs": [],
   "source": [
    "heatmap_data = trailer_fail_plot.pivot_table(index='TRAILER CLOSE TS (LOCAL)', columns='Weekday', values='LOAD ID', aggfunc='count')\n",
    "\n",
    "plt.figure(figsize=(5, 4))\n",
    "plt.imshow(heatmap_data, cmap='YlOrRd', aspect='auto', origin='lower')\n",
    "plt.colorbar(label='Count of Misses')\n",
    "plt.xticks(np.arange(len(heatmap_data.columns)), heatmap_data.columns, rotation=45)\n",
    "plt.yticks(np.arange(len(heatmap_data.index)), heatmap_data.index)\n",
    "plt.xlabel('Weekday (0 is Monday & 6 is Sunday)')\n",
    "plt.ylabel('Hour')\n",
    "plt.title('Missed Threshold by Hour')\n",
    "plt.savefig('../OB/trailer_fill_analysis/trailer_fill_hour.png')\n",
    "plt.show()"
   ]
  },
  {
   "cell_type": "code",
   "execution_count": null,
   "metadata": {},
   "outputs": [],
   "source": []
  }
 ],
 "metadata": {
  "kernelspec": {
   "display_name": "Python 3",
   "language": "python",
   "name": "python3"
  },
  "language_info": {
   "codemirror_mode": {
    "name": "ipython",
    "version": 3
   },
   "file_extension": ".py",
   "mimetype": "text/x-python",
   "name": "python",
   "nbconvert_exporter": "python",
   "pygments_lexer": "ipython3",
   "version": "3.10.11"
  },
  "orig_nbformat": 4
 },
 "nbformat": 4,
 "nbformat_minor": 2
}
